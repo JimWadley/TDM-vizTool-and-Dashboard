{
 "cells": [
  {
   "cell_type": "markdown",
   "metadata": {},
   "source": [
    "# ADD EFA TO TAZ GEOJSON"
   ]
  },
  {
   "cell_type": "code",
   "execution_count": 5,
   "metadata": {},
   "outputs": [
    {
     "name": "stdout",
     "output_type": "stream",
     "text": [
      "Modification completed and saved.\n"
     ]
    }
   ],
   "source": [
    "import geopandas as gpd\n",
    "import fiona # to read geodabatase\n",
    "import numpy as np\n",
    "\n",
    "# Step 1a: Load the datasets - app data\n",
    "geojson_path = '../_site/data/tazWithAggFields.geojson'\n",
    "geojson_gdf = gpd.read_file(geojson_path)\n",
    "\n",
    "# Step 1b: Load the datasets - EFA data\n",
    "efa_gdb_path = r'V:\\1 - TDM\\2 - Sandbox\\v9_Development\\WF TDM v9.0 - 2023-04-28\\Scenarios\\_PerformanceMeasures\\PerformanceMeasures.gdb'\n",
    "efa_gdb_layername = 'TAZ_EFA_PM'\n",
    "\n",
    "# Read a specific layer by name\n",
    "efa_gdf = gpd.read_file(efa_gdb_path, layer=efa_gdb_layername)\n",
    "\n",
    "# Step 2: Check for matching records\n",
    "# Assuming 'TAZID' is the column in both GeoDataFrames to compare\n",
    "# This will create a boolean Series by checking if 'TAZID' from geojson_gdf is in shapefile_gdf's 'TAZID'\n",
    "geojson_gdf['EFA'] = np.where(geojson_gdf['TAZID'].isin(efa_gdf['TAZID']), \"EFA\", \"\")\n",
    "\n",
    "# Optional Step 4: Save the modified GeoDataFrame to a new GeoJSON file\n",
    "modified_geojson_path = '../_site/data/tazWithAggFields.geojson'\n",
    "geojson_gdf.to_file(modified_geojson_path, driver='GeoJSON')\n",
    "\n",
    "print(\"Modification completed and saved.\")"
   ]
  },
  {
   "cell_type": "markdown",
   "metadata": {},
   "source": [
    "# ADD EFA TO SEGMENTS GEOJSON"
   ]
  },
  {
   "cell_type": "code",
   "execution_count": 9,
   "metadata": {},
   "outputs": [
    {
     "name": "stderr",
     "output_type": "stream",
     "text": [
      "C:\\Users\\bhereth\\AppData\\Local\\Temp\\ipykernel_24164\\4099571087.py:13: UserWarning: Geometry is in a geographic CRS. Results from 'centroid' are likely incorrect. Use 'GeoSeries.to_crs()' to re-project geometries to a projected CRS before this operation.\n",
      "\n",
      "  centroid_gdf['geometry'] = polylines.centroid\n",
      "c:\\Users\\bhereth\\Anaconda3\\lib\\site-packages\\IPython\\core\\interactiveshell.py:3377: FutureWarning: The `op` parameter is deprecated and will be removed in a future release. Please use the `predicate` parameter instead.\n",
      "  if (await self.run_code(code, result,  async_=asy)):\n"
     ]
    },
    {
     "name": "stdout",
     "output_type": "stream",
     "text": [
      "Modification completed and saved.\n"
     ]
    }
   ],
   "source": [
    "import geopandas as gpd\n",
    "\n",
    "# Load your polygon and polyline GeoDataFrames\n",
    "polygons = gpd.read_file('../_site/data/tazWithAggFields.geojson')\n",
    "polylines = gpd.read_file('../_site/data/segmentsWithAggFields.geojson')\n",
    "\n",
    "# Ensure both GeoDataFrames are in the same CRS\n",
    "polylines = polylines.to_crs(polygons.crs)\n",
    "\n",
    "# Calculate the centroid for each polyline\n",
    "# The centroid is a point that represents the geometric center of the polyline\n",
    "centroid_gdf = polylines.copy()\n",
    "centroid_gdf['geometry'] = polylines.centroid\n",
    "\n",
    "# Perform the spatial join\n",
    "# This time, the operation joins the centroid GeoDataFrame to the polygons\n",
    "# based on the 'within' operation, which checks if the centroid is within a polygon\n",
    "joined = gpd.sjoin(centroid_gdf, polygons, how=\"inner\", predicate='within')\n",
    "\n",
    "# The result is a GeoDataFrame where each polyline's centroid is within a polygon\n",
    "# Now, 'joined' contains polyline information with their corresponding TAZID from the polygons\n",
    "\n",
    "# If you want to keep the original polyline geometries in the final result,\n",
    "# you can merge the original polylines GeoDataFrame with the 'joined' GeoDataFrame based on index\n",
    "final_result = polylines.merge(joined[['TAZID']], left_index=True, right_index=True, how='inner')\n",
    "\n",
    "# Optionally, create a new GeoDataFrame or save the result with necessary columns\n",
    "#result = final_result[['geometry', 'TAZID']]  # Keep the original polylines geometry and the TAZID\n",
    "\n",
    "# Save the result to a new file (optional)\n",
    "final_result.to_file('../_site/data/segmentsWithAggFields.geojson', driver='GeoJSON')\n",
    "\n",
    "print(\"Modification completed and saved.\")"
   ]
  },
  {
   "cell_type": "code",
   "execution_count": 10,
   "metadata": {},
   "outputs": [
    {
     "name": "stdout",
     "output_type": "stream",
     "text": [
      "Modification completed and saved.\n"
     ]
    }
   ],
   "source": [
    "import geopandas as gpd\n",
    "import fiona # to read geodabatase\n",
    "import numpy as np\n",
    "\n",
    "# Step 1a: Load the datasets - app data\n",
    "geojson_path = '../_site/data/segmentsWithAggFields.geojson'\n",
    "geojson_gdf = gpd.read_file(geojson_path)\n",
    "\n",
    "# Step 1b: Load the datasets - EFA data\n",
    "efa_gdb_path = r'V:\\1 - TDM\\2 - Sandbox\\v9_Development\\WF TDM v9.0 - 2023-04-28\\Scenarios\\_PerformanceMeasures\\PerformanceMeasures.gdb'\n",
    "efa_gdb_layername = 'TAZ_EFA_PM'\n",
    "\n",
    "# Read a specific layer by name\n",
    "efa_gdf = gpd.read_file(efa_gdb_path, layer=efa_gdb_layername)\n",
    "\n",
    "# Step 2: Check for matching records\n",
    "# Assuming 'TAZID' is the column in both GeoDataFrames to compare\n",
    "# This will create a boolean Series by checking if 'TAZID' from geojson_gdf is in shapefile_gdf's 'TAZID'\n",
    "geojson_gdf['EFA'] = np.where(geojson_gdf['TAZID'].isin(efa_gdf['TAZID']), \"EFA\", \"\")\n",
    "\n",
    "# Optional Step 4: Save the modified GeoDataFrame to a new GeoJSON file\n",
    "modified_geojson_path = '../_site/data/segmentsWithAggFields.geojson'\n",
    "geojson_gdf.to_file(modified_geojson_path, driver='GeoJSON')\n",
    "\n",
    "print(\"Modification completed and saved.\")"
   ]
  }
 ],
 "metadata": {
  "kernelspec": {
   "display_name": "base",
   "language": "python",
   "name": "python3"
  },
  "language_info": {
   "codemirror_mode": {
    "name": "ipython",
    "version": 3
   },
   "file_extension": ".py",
   "mimetype": "text/x-python",
   "name": "python",
   "nbconvert_exporter": "python",
   "pygments_lexer": "ipython3",
   "version": "3.9.13"
  }
 },
 "nbformat": 4,
 "nbformat_minor": 2
}
